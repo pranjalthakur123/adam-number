{
 "cells": [ {
   "cell_type": "code",
   "execution_count": null,
   "metadata": {},
   "outputs": [],
   "source": [
    "#program to check weather the given number is adam number or not\n",
    "def reverse(a):\n",
    "    b=0\n",
    "while a>0:\n",
    "        c=a%10\n"
    "        a//=10\n",
    "        b=(b*10)+c\n",
    "    return b\n",
    "\n",
    "x=int(input(\"enter any number:\"))\n",
    "y=reverse(x)\n",
    "print(y)\n",
    "a,b=x*x,y*y\n"
    "c=reverse(b)\n",
    "if a==c:\n",
    "    print(\"its a adam number\")\n",
    "else:\n",
    "    print(\"not\")"
   ]
  }
 ],
 "metadata": {
  "language_info": {
   "name": "python"
  },
  "orig_nbformat": 5
 },
 "nbformat": 5,
 "nbformat_minor": 3
}
